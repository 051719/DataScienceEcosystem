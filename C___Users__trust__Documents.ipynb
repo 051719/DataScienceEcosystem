{
 "cells": [
  {
   "cell_type": "markdown",
   "id": "db103a1c",
   "metadata": {},
   "source": [
    "# Data Science Tools and Ecosystem"
   ]
  },
  {
   "cell_type": "markdown",
   "id": "89feef7c",
   "metadata": {},
   "source": [
    "In this notebook, Data Science Tools and Ecosystem are summarized"
   ]
  },
  {
   "cell_type": "markdown",
   "id": "97eb69a1",
   "metadata": {},
   "source": [
    "Some of the popular languages that Data Scientists use are:"
   ]
  },
  {
   "cell_type": "code",
   "execution_count": 5,
   "id": "9625e53c",
   "metadata": {},
   "outputs": [],
   "source": [
    "List = ( \"Python\", \"R\", \"SQL\")"
   ]
  },
  {
   "cell_type": "code",
   "execution_count": 6,
   "id": "695533f4",
   "metadata": {},
   "outputs": [
    {
     "data": {
      "text/plain": [
       "('Python', 'R', 'SQL')"
      ]
     },
     "execution_count": 6,
     "metadata": {},
     "output_type": "execute_result"
    }
   ],
   "source": [
    "List"
   ]
  },
  {
   "cell_type": "markdown",
   "id": "cb709399",
   "metadata": {},
   "source": [
    "Some of the commonly used libraries used by Data Scientists include:"
   ]
  },
  {
   "cell_type": "code",
   "execution_count": 7,
   "id": "8ad79925",
   "metadata": {},
   "outputs": [],
   "source": [
    "library = [\"ggplot\", \"panda\", \"GGally\", \"Selenium\", \"Scikit-learn\", \"Keras\"]"
   ]
  },
  {
   "cell_type": "code",
   "execution_count": 8,
   "id": "9c26a156",
   "metadata": {},
   "outputs": [
    {
     "data": {
      "text/plain": [
       "['ggplot', 'panda', 'GGally', 'Selenium', 'Scikit-learn', 'Keras']"
      ]
     },
     "execution_count": 8,
     "metadata": {},
     "output_type": "execute_result"
    }
   ],
   "source": [
    "library"
   ]
  },
  {
   "cell_type": "markdown",
   "id": "c496afec",
   "metadata": {},
   "source": [
    "Data Science tools"
   ]
  },
  {
   "cell_type": "code",
   "execution_count": 9,
   "id": "5cfdf582",
   "metadata": {},
   "outputs": [
    {
     "name": "stdout",
     "output_type": "stream",
     "text": [
      "0 Data Science tools\n",
      "1 VScode\n",
      "2 Jupyter Notebook\n",
      "3 Googlecolab\n"
     ]
    }
   ],
   "source": [
    "Data = [\"Data Science tools\", \"VScode\", \"Jupyter Notebook\", \"Googlecolab\"]\n",
    "i = []\n",
    "for i, Data in enumerate(Data):\n",
    "    print(i, Data)"
   ]
  },
  {
   "cell_type": "markdown",
   "id": "3f047d3e",
   "metadata": {},
   "source": [
    "Below are a few examples of evaluating arthmetic expressions in Python"
   ]
  },
  {
   "cell_type": "code",
   "execution_count": 10,
   "id": "e625e5d1",
   "metadata": {},
   "outputs": [
    {
     "data": {
      "text/plain": [
       "8"
      ]
     },
     "execution_count": 10,
     "metadata": {},
     "output_type": "execute_result"
    }
   ],
   "source": [
    "4 + 4"
   ]
  },
  {
   "cell_type": "code",
   "execution_count": 11,
   "id": "93d800ab",
   "metadata": {},
   "outputs": [
    {
     "data": {
      "text/plain": [
       "16"
      ]
     },
     "execution_count": 11,
     "metadata": {},
     "output_type": "execute_result"
    }
   ],
   "source": [
    "4*4"
   ]
  },
  {
   "cell_type": "code",
   "execution_count": 16,
   "id": "f94d2999",
   "metadata": {},
   "outputs": [
    {
     "data": {
      "text/plain": [
       "17"
      ]
     },
     "execution_count": 16,
     "metadata": {},
     "output_type": "execute_result"
    }
   ],
   "source": [
    "a = 3\n",
    "b = 4\n",
    "c = 5\n",
    "(a*b)+c"
   ]
  },
  {
   "cell_type": "code",
   "execution_count": 14,
   "id": "24d68b28",
   "metadata": {},
   "outputs": [],
   "source": [
    "x = 200\n",
    "y = 60\n",
    "z = (x/y)"
   ]
  },
  {
   "cell_type": "code",
   "execution_count": 15,
   "id": "7964be0d",
   "metadata": {},
   "outputs": [
    {
     "name": "stdout",
     "output_type": "stream",
     "text": [
      "This will convert 200 minutes to hours by dividing by 60 = 3.3333333333333335\n"
     ]
    }
   ],
   "source": [
    "print(\"This will convert 200 minutes to hours by dividing by 60 =\", z)"
   ]
  },
  {
   "cell_type": "markdown",
   "id": "3a03c104",
   "metadata": {},
   "source": [
    "Objectives:"
   ]
  },
  {
   "cell_type": "markdown",
   "id": "9f2d676f",
   "metadata": {},
   "source": [
    "- Some of popular languages for Data Science\n",
    "- Some of the commonly used libraries used by Data Scientists include\n",
    "- Few examples of evaluating arthmetic expressions in Python"
   ]
  },
  {
   "cell_type": "markdown",
   "id": "eaca5083",
   "metadata": {},
   "source": [
    "Author's name: Antonio Park"
   ]
  }
 ],
 "metadata": {
  "kernelspec": {
   "display_name": "Python 3 (ipykernel)",
   "language": "python",
   "name": "python3"
  },
  "language_info": {
   "codemirror_mode": {
    "name": "ipython",
    "version": 3
   },
   "file_extension": ".py",
   "mimetype": "text/x-python",
   "name": "python",
   "nbconvert_exporter": "python",
   "pygments_lexer": "ipython3",
   "version": "3.11.3"
  }
 },
 "nbformat": 4,
 "nbformat_minor": 5
}
